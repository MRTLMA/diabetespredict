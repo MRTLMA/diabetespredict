{
 "cells": [
  {
   "cell_type": "code",
   "execution_count": 3,
   "id": "5b446b70",
   "metadata": {},
   "outputs": [],
   "source": [
    "### Importing Libraries\n",
    "import pandas as pd\n",
    "import numpy as np\n",
    "import seaborn as sn\n",
    "import matplotlib.pyplot as plt\n",
    "%matplotlib inline"
   ]
  },
  {
   "cell_type": "code",
   "execution_count": 4,
   "id": "491f670d",
   "metadata": {},
   "outputs": [],
   "source": [
    "df = pd.read_csv('diabetes.csv')"
   ]
  },
  {
   "cell_type": "code",
   "execution_count": 5,
   "id": "12399532",
   "metadata": {},
   "outputs": [
    {
     "data": {
      "text/html": [
       "<div>\n",
       "<style scoped>\n",
       "    .dataframe tbody tr th:only-of-type {\n",
       "        vertical-align: middle;\n",
       "    }\n",
       "\n",
       "    .dataframe tbody tr th {\n",
       "        vertical-align: top;\n",
       "    }\n",
       "\n",
       "    .dataframe thead th {\n",
       "        text-align: right;\n",
       "    }\n",
       "</style>\n",
       "<table border=\"1\" class=\"dataframe\">\n",
       "  <thead>\n",
       "    <tr style=\"text-align: right;\">\n",
       "      <th></th>\n",
       "      <th>Pregnancies</th>\n",
       "      <th>Glucose</th>\n",
       "      <th>BloodPressure</th>\n",
       "      <th>SkinThickness</th>\n",
       "      <th>Insulin</th>\n",
       "      <th>BMI</th>\n",
       "      <th>DiabetesPedigreeFunction</th>\n",
       "      <th>Age</th>\n",
       "      <th>Outcome</th>\n",
       "    </tr>\n",
       "  </thead>\n",
       "  <tbody>\n",
       "    <tr>\n",
       "      <th>0</th>\n",
       "      <td>6</td>\n",
       "      <td>148</td>\n",
       "      <td>72</td>\n",
       "      <td>35</td>\n",
       "      <td>0</td>\n",
       "      <td>33.6</td>\n",
       "      <td>0.627</td>\n",
       "      <td>50</td>\n",
       "      <td>1</td>\n",
       "    </tr>\n",
       "    <tr>\n",
       "      <th>1</th>\n",
       "      <td>1</td>\n",
       "      <td>85</td>\n",
       "      <td>66</td>\n",
       "      <td>29</td>\n",
       "      <td>0</td>\n",
       "      <td>26.6</td>\n",
       "      <td>0.351</td>\n",
       "      <td>31</td>\n",
       "      <td>0</td>\n",
       "    </tr>\n",
       "    <tr>\n",
       "      <th>2</th>\n",
       "      <td>8</td>\n",
       "      <td>183</td>\n",
       "      <td>64</td>\n",
       "      <td>0</td>\n",
       "      <td>0</td>\n",
       "      <td>23.3</td>\n",
       "      <td>0.672</td>\n",
       "      <td>32</td>\n",
       "      <td>1</td>\n",
       "    </tr>\n",
       "    <tr>\n",
       "      <th>3</th>\n",
       "      <td>1</td>\n",
       "      <td>89</td>\n",
       "      <td>66</td>\n",
       "      <td>23</td>\n",
       "      <td>94</td>\n",
       "      <td>28.1</td>\n",
       "      <td>0.167</td>\n",
       "      <td>21</td>\n",
       "      <td>0</td>\n",
       "    </tr>\n",
       "    <tr>\n",
       "      <th>4</th>\n",
       "      <td>0</td>\n",
       "      <td>137</td>\n",
       "      <td>40</td>\n",
       "      <td>35</td>\n",
       "      <td>168</td>\n",
       "      <td>43.1</td>\n",
       "      <td>2.288</td>\n",
       "      <td>33</td>\n",
       "      <td>1</td>\n",
       "    </tr>\n",
       "  </tbody>\n",
       "</table>\n",
       "</div>"
      ],
      "text/plain": [
       "   Pregnancies  Glucose  BloodPressure  SkinThickness  Insulin   BMI  \\\n",
       "0            6      148             72             35        0  33.6   \n",
       "1            1       85             66             29        0  26.6   \n",
       "2            8      183             64              0        0  23.3   \n",
       "3            1       89             66             23       94  28.1   \n",
       "4            0      137             40             35      168  43.1   \n",
       "\n",
       "   DiabetesPedigreeFunction  Age  Outcome  \n",
       "0                     0.627   50        1  \n",
       "1                     0.351   31        0  \n",
       "2                     0.672   32        1  \n",
       "3                     0.167   21        0  \n",
       "4                     2.288   33        1  "
      ]
     },
     "execution_count": 5,
     "metadata": {},
     "output_type": "execute_result"
    }
   ],
   "source": [
    "df.head()"
   ]
  },
  {
   "cell_type": "markdown",
   "id": "72244ac0",
   "metadata": {},
   "source": [
    "In the context of the Pima Indians Diabetes dataset, it's important to understand the significance of the health-related features and the role they might play in predicting the onset of diabetes. Let's delve deeper into these features:\n",
    "\n",
    "**Pregnancies**: This feature represents the number of times an individual has been pregnant. It's important as several studies have indicated that the risk of developing diabetes increases with the number of pregnancies.\n",
    "\n",
    "**Glucose**: This represents the plasma glucose concentration a 2 hours in an oral glucose tolerance test. Elevated levels of glucose in the blood, or hyperglycemia, is a common effect of uncontrolled diabetes and over time leads to serious damage to many of the body's systems, especially the nerves and blood vessels.\n",
    "\n",
    "**BloodPressure**: This feature signifies diastolic blood pressure (in mm Hg). Persistent high blood pressure, also known as hypertension, can lead to various health problems including heart disease, kidney disease, stroke, and can also be a risk factor for the development of diabetes.\n",
    "\n",
    "**SkinThickness**: This refers to the triceps skin fold thickness (in mm). It's a measure of body fat, and higher values may indicate overweight or obesity, which are known risk factors for diabetes.\n",
    "\n",
    "**Insulin**: This is the 2-Hour serum insulin (in mu U/ml). Insulin is a hormone that regulates blood sugar, and problems with insulin production or function can lead to the development of diabetes.\n",
    "\n",
    "**BMI**: This feature is the Body Mass Index (weight in kg/(height in m)^2). Like skin thickness, it's a measure of body fat, and high BMI values (overweight or obesity) are associated with an increased risk of diabetes.\n",
    "\n",
    "**DiabetesPedigreeFunction**: This is a function that scores likelihood of diabetes based on family history. It's based on the premise that the genetic predisposition to the disease can be quantified and that a family history of the disease increases the risk.\n",
    "\n",
    "**Age**: This represents age in years. Aging is associated with changes in body composition, insulin secretion and action, and glucose metabolism, all of which can increase the risk of developing diabetes.\n",
    "\n",
    "**Outcome**: This is the class variable (0 or 1). In this dataset, 268 of 768 instances are 1 (representing diabetes), and the rest are 0 (no diabetes). This is our target variable which we aim to predict based on the other features."
   ]
  },
  {
   "cell_type": "code",
   "execution_count": 7,
   "id": "9b74ae7e",
   "metadata": {},
   "outputs": [
    {
     "data": {
      "text/plain": [
       "Pregnancies                 0\n",
       "Glucose                     0\n",
       "BloodPressure               0\n",
       "SkinThickness               0\n",
       "Insulin                     0\n",
       "BMI                         0\n",
       "DiabetesPedigreeFunction    0\n",
       "Age                         0\n",
       "Outcome                     0\n",
       "dtype: int64"
      ]
     },
     "execution_count": 7,
     "metadata": {},
     "output_type": "execute_result"
    }
   ],
   "source": [
    "# checking for missing values\n",
    "df.isnull().sum()"
   ]
  },
  {
   "cell_type": "code",
   "execution_count": 9,
   "id": "b1e78d0c",
   "metadata": {},
   "outputs": [
    {
     "name": "stdout",
     "output_type": "stream",
     "text": [
      "Pregnancies: 17 distinct values\n",
      "Glucose: 136 distinct values\n",
      "BloodPressure: 47 distinct values\n",
      "SkinThickness: 51 distinct values\n",
      "Insulin: 186 distinct values\n",
      "BMI: 248 distinct values\n",
      "DiabetesPedigreeFunction: 517 distinct values\n",
      "Age: 52 distinct values\n",
      "Outcome: 2 distinct values\n"
     ]
    }
   ],
   "source": [
    "# Looping through each column and count the number of distinct values\n",
    "for column in df.columns:\n",
    "    num_distinct_values = len(df[column].unique())\n",
    "    print(f\"{column}: {num_distinct_values} distinct values\")"
   ]
  },
  {
   "cell_type": "code",
   "execution_count": 10,
   "id": "c1e53292",
   "metadata": {},
   "outputs": [
    {
     "data": {
      "text/html": [
       "<style type=\"text/css\">\n",
       "</style>\n",
       "<table id=\"T_195ef\">\n",
       "  <thead>\n",
       "    <tr>\n",
       "      <th class=\"blank level0\" >&nbsp;</th>\n",
       "      <th id=\"T_195ef_level0_col0\" class=\"col_heading level0 col0\" >Pregnancies</th>\n",
       "      <th id=\"T_195ef_level0_col1\" class=\"col_heading level0 col1\" >Glucose</th>\n",
       "      <th id=\"T_195ef_level0_col2\" class=\"col_heading level0 col2\" >BloodPressure</th>\n",
       "      <th id=\"T_195ef_level0_col3\" class=\"col_heading level0 col3\" >SkinThickness</th>\n",
       "      <th id=\"T_195ef_level0_col4\" class=\"col_heading level0 col4\" >Insulin</th>\n",
       "      <th id=\"T_195ef_level0_col5\" class=\"col_heading level0 col5\" >BMI</th>\n",
       "      <th id=\"T_195ef_level0_col6\" class=\"col_heading level0 col6\" >DiabetesPedigreeFunction</th>\n",
       "      <th id=\"T_195ef_level0_col7\" class=\"col_heading level0 col7\" >Age</th>\n",
       "      <th id=\"T_195ef_level0_col8\" class=\"col_heading level0 col8\" >Outcome</th>\n",
       "    </tr>\n",
       "  </thead>\n",
       "  <tbody>\n",
       "    <tr>\n",
       "      <th id=\"T_195ef_level0_row0\" class=\"row_heading level0 row0\" >count</th>\n",
       "      <td id=\"T_195ef_row0_col0\" class=\"data row0 col0\" >768.00</td>\n",
       "      <td id=\"T_195ef_row0_col1\" class=\"data row0 col1\" >768.00</td>\n",
       "      <td id=\"T_195ef_row0_col2\" class=\"data row0 col2\" >768.00</td>\n",
       "      <td id=\"T_195ef_row0_col3\" class=\"data row0 col3\" >768.00</td>\n",
       "      <td id=\"T_195ef_row0_col4\" class=\"data row0 col4\" >768.00</td>\n",
       "      <td id=\"T_195ef_row0_col5\" class=\"data row0 col5\" >768.00</td>\n",
       "      <td id=\"T_195ef_row0_col6\" class=\"data row0 col6\" >768.00</td>\n",
       "      <td id=\"T_195ef_row0_col7\" class=\"data row0 col7\" >768.00</td>\n",
       "      <td id=\"T_195ef_row0_col8\" class=\"data row0 col8\" >768.00</td>\n",
       "    </tr>\n",
       "    <tr>\n",
       "      <th id=\"T_195ef_level0_row1\" class=\"row_heading level0 row1\" >mean</th>\n",
       "      <td id=\"T_195ef_row1_col0\" class=\"data row1 col0\" >3.85</td>\n",
       "      <td id=\"T_195ef_row1_col1\" class=\"data row1 col1\" >120.89</td>\n",
       "      <td id=\"T_195ef_row1_col2\" class=\"data row1 col2\" >69.11</td>\n",
       "      <td id=\"T_195ef_row1_col3\" class=\"data row1 col3\" >20.54</td>\n",
       "      <td id=\"T_195ef_row1_col4\" class=\"data row1 col4\" >79.80</td>\n",
       "      <td id=\"T_195ef_row1_col5\" class=\"data row1 col5\" >31.99</td>\n",
       "      <td id=\"T_195ef_row1_col6\" class=\"data row1 col6\" >0.47</td>\n",
       "      <td id=\"T_195ef_row1_col7\" class=\"data row1 col7\" >33.24</td>\n",
       "      <td id=\"T_195ef_row1_col8\" class=\"data row1 col8\" >0.35</td>\n",
       "    </tr>\n",
       "    <tr>\n",
       "      <th id=\"T_195ef_level0_row2\" class=\"row_heading level0 row2\" >std</th>\n",
       "      <td id=\"T_195ef_row2_col0\" class=\"data row2 col0\" >3.37</td>\n",
       "      <td id=\"T_195ef_row2_col1\" class=\"data row2 col1\" >31.97</td>\n",
       "      <td id=\"T_195ef_row2_col2\" class=\"data row2 col2\" >19.36</td>\n",
       "      <td id=\"T_195ef_row2_col3\" class=\"data row2 col3\" >15.95</td>\n",
       "      <td id=\"T_195ef_row2_col4\" class=\"data row2 col4\" >115.24</td>\n",
       "      <td id=\"T_195ef_row2_col5\" class=\"data row2 col5\" >7.88</td>\n",
       "      <td id=\"T_195ef_row2_col6\" class=\"data row2 col6\" >0.33</td>\n",
       "      <td id=\"T_195ef_row2_col7\" class=\"data row2 col7\" >11.76</td>\n",
       "      <td id=\"T_195ef_row2_col8\" class=\"data row2 col8\" >0.48</td>\n",
       "    </tr>\n",
       "    <tr>\n",
       "      <th id=\"T_195ef_level0_row3\" class=\"row_heading level0 row3\" >min</th>\n",
       "      <td id=\"T_195ef_row3_col0\" class=\"data row3 col0\" >0.00</td>\n",
       "      <td id=\"T_195ef_row3_col1\" class=\"data row3 col1\" >0.00</td>\n",
       "      <td id=\"T_195ef_row3_col2\" class=\"data row3 col2\" >0.00</td>\n",
       "      <td id=\"T_195ef_row3_col3\" class=\"data row3 col3\" >0.00</td>\n",
       "      <td id=\"T_195ef_row3_col4\" class=\"data row3 col4\" >0.00</td>\n",
       "      <td id=\"T_195ef_row3_col5\" class=\"data row3 col5\" >0.00</td>\n",
       "      <td id=\"T_195ef_row3_col6\" class=\"data row3 col6\" >0.08</td>\n",
       "      <td id=\"T_195ef_row3_col7\" class=\"data row3 col7\" >21.00</td>\n",
       "      <td id=\"T_195ef_row3_col8\" class=\"data row3 col8\" >0.00</td>\n",
       "    </tr>\n",
       "    <tr>\n",
       "      <th id=\"T_195ef_level0_row4\" class=\"row_heading level0 row4\" >25%</th>\n",
       "      <td id=\"T_195ef_row4_col0\" class=\"data row4 col0\" >1.00</td>\n",
       "      <td id=\"T_195ef_row4_col1\" class=\"data row4 col1\" >99.00</td>\n",
       "      <td id=\"T_195ef_row4_col2\" class=\"data row4 col2\" >62.00</td>\n",
       "      <td id=\"T_195ef_row4_col3\" class=\"data row4 col3\" >0.00</td>\n",
       "      <td id=\"T_195ef_row4_col4\" class=\"data row4 col4\" >0.00</td>\n",
       "      <td id=\"T_195ef_row4_col5\" class=\"data row4 col5\" >27.30</td>\n",
       "      <td id=\"T_195ef_row4_col6\" class=\"data row4 col6\" >0.24</td>\n",
       "      <td id=\"T_195ef_row4_col7\" class=\"data row4 col7\" >24.00</td>\n",
       "      <td id=\"T_195ef_row4_col8\" class=\"data row4 col8\" >0.00</td>\n",
       "    </tr>\n",
       "    <tr>\n",
       "      <th id=\"T_195ef_level0_row5\" class=\"row_heading level0 row5\" >50%</th>\n",
       "      <td id=\"T_195ef_row5_col0\" class=\"data row5 col0\" >3.00</td>\n",
       "      <td id=\"T_195ef_row5_col1\" class=\"data row5 col1\" >117.00</td>\n",
       "      <td id=\"T_195ef_row5_col2\" class=\"data row5 col2\" >72.00</td>\n",
       "      <td id=\"T_195ef_row5_col3\" class=\"data row5 col3\" >23.00</td>\n",
       "      <td id=\"T_195ef_row5_col4\" class=\"data row5 col4\" >30.50</td>\n",
       "      <td id=\"T_195ef_row5_col5\" class=\"data row5 col5\" >32.00</td>\n",
       "      <td id=\"T_195ef_row5_col6\" class=\"data row5 col6\" >0.37</td>\n",
       "      <td id=\"T_195ef_row5_col7\" class=\"data row5 col7\" >29.00</td>\n",
       "      <td id=\"T_195ef_row5_col8\" class=\"data row5 col8\" >0.00</td>\n",
       "    </tr>\n",
       "    <tr>\n",
       "      <th id=\"T_195ef_level0_row6\" class=\"row_heading level0 row6\" >75%</th>\n",
       "      <td id=\"T_195ef_row6_col0\" class=\"data row6 col0\" >6.00</td>\n",
       "      <td id=\"T_195ef_row6_col1\" class=\"data row6 col1\" >140.25</td>\n",
       "      <td id=\"T_195ef_row6_col2\" class=\"data row6 col2\" >80.00</td>\n",
       "      <td id=\"T_195ef_row6_col3\" class=\"data row6 col3\" >32.00</td>\n",
       "      <td id=\"T_195ef_row6_col4\" class=\"data row6 col4\" >127.25</td>\n",
       "      <td id=\"T_195ef_row6_col5\" class=\"data row6 col5\" >36.60</td>\n",
       "      <td id=\"T_195ef_row6_col6\" class=\"data row6 col6\" >0.63</td>\n",
       "      <td id=\"T_195ef_row6_col7\" class=\"data row6 col7\" >41.00</td>\n",
       "      <td id=\"T_195ef_row6_col8\" class=\"data row6 col8\" >1.00</td>\n",
       "    </tr>\n",
       "    <tr>\n",
       "      <th id=\"T_195ef_level0_row7\" class=\"row_heading level0 row7\" >max</th>\n",
       "      <td id=\"T_195ef_row7_col0\" class=\"data row7 col0\" >17.00</td>\n",
       "      <td id=\"T_195ef_row7_col1\" class=\"data row7 col1\" >199.00</td>\n",
       "      <td id=\"T_195ef_row7_col2\" class=\"data row7 col2\" >122.00</td>\n",
       "      <td id=\"T_195ef_row7_col3\" class=\"data row7 col3\" >99.00</td>\n",
       "      <td id=\"T_195ef_row7_col4\" class=\"data row7 col4\" >846.00</td>\n",
       "      <td id=\"T_195ef_row7_col5\" class=\"data row7 col5\" >67.10</td>\n",
       "      <td id=\"T_195ef_row7_col6\" class=\"data row7 col6\" >2.42</td>\n",
       "      <td id=\"T_195ef_row7_col7\" class=\"data row7 col7\" >81.00</td>\n",
       "      <td id=\"T_195ef_row7_col8\" class=\"data row7 col8\" >1.00</td>\n",
       "    </tr>\n",
       "  </tbody>\n",
       "</table>\n"
      ],
      "text/plain": [
       "<pandas.io.formats.style.Styler at 0x11f3cfb80>"
      ]
     },
     "execution_count": 10,
     "metadata": {},
     "output_type": "execute_result"
    }
   ],
   "source": [
    "df.describe().style.format(\"{:.2f}\")"
   ]
  },
  {
   "cell_type": "markdown",
   "id": "ed7cfd26",
   "metadata": {},
   "source": [
    "1. The dataset consists of 768 rows and 8 columns\n",
    "2. The target variable is Outcome, which contains categorical binary values 0 and 1\n",
    "3. The variables other than Outcome are numerical\n",
    "4. There are technically no missing values because of lack NaN values, however when we examine closely, some 0's in the dataset indicate they are actually missing values"
   ]
  },
  {
   "cell_type": "markdown",
   "id": "f37916ce",
   "metadata": {},
   "source": [
    "### Univariate Analysis"
   ]
  },
  {
   "cell_type": "code",
   "execution_count": null,
   "id": "9dd1809f",
   "metadata": {},
   "outputs": [],
   "source": [
    "# Explore the distribution of numerical variables\n",
    "for col in df.columns:\n",
    "    plt.figure(figsize=(6,4))\n",
    "    sns.displot(data=df[col],\\]]}}e\\)"
   ]
  },
  {
   "cell_type": "code",
   "execution_count": null,
   "id": "fae25def",
   "metadata": {},
   "outputs": [],
   "source": []
  },
  {
   "cell_type": "code",
   "execution_count": null,
   "id": "f5feb794",
   "metadata": {},
   "outputs": [],
   "source": []
  },
  {
   "cell_type": "code",
   "execution_count": null,
   "id": "c1c5a33a",
   "metadata": {},
   "outputs": [],
   "source": []
  }
 ],
 "metadata": {
  "kernelspec": {
   "display_name": "Python 3 (ipykernel)",
   "language": "python",
   "name": "python3"
  },
  "language_info": {
   "codemirror_mode": {
    "name": "ipython",
    "version": 3
   },
   "file_extension": ".py",
   "mimetype": "text/x-python",
   "name": "python",
   "nbconvert_exporter": "python",
   "pygments_lexer": "ipython3",
   "version": "3.10.9"
  }
 },
 "nbformat": 4,
 "nbformat_minor": 5
}
